{
 "cells": [
  {
   "cell_type": "code",
   "execution_count": 33,
   "id": "1a19d8f8",
   "metadata": {},
   "outputs": [],
   "source": [
    "from selenium import webdriver"
   ]
  },
  {
   "cell_type": "code",
   "execution_count": 34,
   "id": "87955158",
   "metadata": {},
   "outputs": [],
   "source": [
    "from bs4 import BeautifulSoup\n",
    "soup = BeautifulSoup(html, \"html.parser\")"
   ]
  },
  {
   "cell_type": "code",
   "execution_count": 35,
   "id": "f0b9d54f",
   "metadata": {},
   "outputs": [
    {
     "name": "stdout",
     "output_type": "stream",
     "text": [
      "Requirement already satisfied: beautifulsoup4 in c:\\users\\admin\\anaconda3\\envs\\django\\lib\\site-packages (4.10.0)\n",
      "Requirement already satisfied: soupsieve>1.2 in c:\\users\\admin\\anaconda3\\envs\\django\\lib\\site-packages (from beautifulsoup4) (2.3.1)\n",
      "Note: you may need to restart the kernel to use updated packages.\n"
     ]
    }
   ],
   "source": [
    "pip install beautifulsoup4"
   ]
  },
  {
   "cell_type": "code",
   "execution_count": 36,
   "id": "cf10ef14",
   "metadata": {},
   "outputs": [],
   "source": [
    "#페이지수 : 5704개\n",
    "coment_withgod = []\n",
    "\n",
    "for j in range (1,3):\n",
    "    try:\n",
    "        url = \"https://movie.naver.com/movie/bi/mi/pointWriteFormList.naver?code=85579&type=after&isActualPointWriteExecute=false&isMileageSubscriptionAlready=false&isMileageSubscriptionReject=false&page={}\".format(j)\n",
    "\n",
    "        html = driver.page_source\n",
    "\n",
    "        from bs4 import BeautifulSoup\n",
    "        soup = BeautifulSoup(html, \"html.parser\")\n",
    "\n",
    "\n",
    "\n",
    "        for i in range (0,10):\n",
    "            text = list(soup.select(\"#_filtered_ment_{}\".format(i))[0])[0][64:]\n",
    "            text_mod = text.replace(\"\\t\",\"\")\n",
    "            text_mod_final = text_mod.replace(\"\\n\",\"\")\n",
    "            \n",
    "            coment_withgod.append(text_mod_final)\n",
    "        \n",
    "    except :\n",
    "        pass"
   ]
  },
  {
   "cell_type": "code",
   "execution_count": 37,
   "id": "e26e1527",
   "metadata": {},
   "outputs": [
    {
     "data": {
      "text/plain": [
       "['이정재가 홍보 따라다닌 이유를 알겠음 ㅋㅋㅋ 그리고 관심병사 연기 도랐다 ',\n",
       " '남자 셋이서 안 울라고…주먹으로 입틀막함 ㅋㅋㅋㅋ ',\n",
       " '여보, 이번 겨울에… 부모님댁에 밥솥 놔드려야겠어요 ',\n",
       " '가족이랑 봤는데… 나… 우리 아빠 우는 거 처음 봤음 ㅜㅜㅜㅜ ',\n",
       " '오늘도 열심히 사는 대한민국의 자홍,수홍씨들을 응원합니다 ㅠㅠ ',\n",
       " '오늘 화장 안하고 신과함께를 본 것은 신의한수였음. ',\n",
       " '야 이거 생각한 것 보다 잘 나왔잖아 ? ',\n",
       " '원작팬이에요. 솔직히 기대 내려놓고 봤지만 볼거리, 스토리, 캐릭터 케미 모두 기대 이상이었어요. 이정도 영화 없다고 봅니다. 많이 감동 받았어요 ',\n",
       " '도대체 내가 지은 죄가 몇개야.... ',\n",
       " '장르는 판타지지만 그안에 새로운것이 있고 정말 마지막이 반전이고 보면서 삶에대해 다시한번 느끼게되네요 영화보면서 울었습니다 어머니꿈에서 아들과 재회하는데 ㅠㅜ 진심 잘만들었네요 영화 뜻깊게보다갑니다 ',\n",
       " '이정재가 홍보 따라다닌 이유를 알겠음 ㅋㅋㅋ 그리고 관심병사 연기 도랐다 ',\n",
       " '남자 셋이서 안 울라고…주먹으로 입틀막함 ㅋㅋㅋㅋ ',\n",
       " '여보, 이번 겨울에… 부모님댁에 밥솥 놔드려야겠어요 ',\n",
       " '가족이랑 봤는데… 나… 우리 아빠 우는 거 처음 봤음 ㅜㅜㅜㅜ ',\n",
       " '오늘도 열심히 사는 대한민국의 자홍,수홍씨들을 응원합니다 ㅠㅠ ',\n",
       " '오늘 화장 안하고 신과함께를 본 것은 신의한수였음. ',\n",
       " '야 이거 생각한 것 보다 잘 나왔잖아 ? ',\n",
       " '원작팬이에요. 솔직히 기대 내려놓고 봤지만 볼거리, 스토리, 캐릭터 케미 모두 기대 이상이었어요. 이정도 영화 없다고 봅니다. 많이 감동 받았어요 ',\n",
       " '도대체 내가 지은 죄가 몇개야.... ',\n",
       " '장르는 판타지지만 그안에 새로운것이 있고 정말 마지막이 반전이고 보면서 삶에대해 다시한번 느끼게되네요 영화보면서 울었습니다 어머니꿈에서 아들과 재회하는데 ㅠㅜ 진심 잘만들었네요 영화 뜻깊게보다갑니다 ']"
      ]
     },
     "execution_count": 37,
     "metadata": {},
     "output_type": "execute_result"
    }
   ],
   "source": [
    "coment_withgod"
   ]
  },
  {
   "cell_type": "code",
   "execution_count": 32,
   "id": "884183b9",
   "metadata": {},
   "outputs": [],
   "source": [
    "# 저장\n",
    "import csv\n",
    "\n",
    "with open('./movie_comment/with_god.txt', 'w', newline='') as f: \n",
    "    writer = csv.writer(f) \n",
    "    writer.writerow(coment_withgod)"
   ]
  },
  {
   "cell_type": "code",
   "execution_count": null,
   "id": "a56c0c7f",
   "metadata": {},
   "outputs": [],
   "source": []
  }
 ],
 "metadata": {
  "kernelspec": {
   "display_name": "django_kernel",
   "language": "python",
   "name": "django"
  },
  "language_info": {
   "codemirror_mode": {
    "name": "ipython",
    "version": 3
   },
   "file_extension": ".py",
   "mimetype": "text/x-python",
   "name": "python",
   "nbconvert_exporter": "python",
   "pygments_lexer": "ipython3",
   "version": "3.10.2"
  }
 },
 "nbformat": 4,
 "nbformat_minor": 5
}
