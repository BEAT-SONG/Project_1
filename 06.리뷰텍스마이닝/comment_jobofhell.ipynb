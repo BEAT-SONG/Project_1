{
 "cells": [
  {
   "cell_type": "code",
   "execution_count": 6,
   "id": "87aa2d2f",
   "metadata": {},
   "outputs": [],
   "source": [
    "from selenium import webdriver"
   ]
  },
  {
   "cell_type": "code",
   "execution_count": 7,
   "id": "0fb4148e",
   "metadata": {},
   "outputs": [
    {
     "name": "stderr",
     "output_type": "stream",
     "text": [
      "C:\\Users\\admin\\AppData\\Local\\Temp\\ipykernel_3872\\1864857770.py:1: DeprecationWarning: executable_path has been deprecated, please pass in a Service object\n",
      "  driver = webdriver.Chrome(\"C:/ChromeDriver/chromedriver.exe\")\n"
     ]
    }
   ],
   "source": [
    "driver = webdriver.Chrome(\"C:/ChromeDriver/chromedriver.exe\")"
   ]
  },
  {
   "cell_type": "code",
   "execution_count": 8,
   "id": "6689f1e1",
   "metadata": {},
   "outputs": [],
   "source": [
    "url = \"https://movie.naver.com/movie/bi/mi/pointWriteFormList.naver?code=167651&type=after&onlyActualPointYn=N&onlySpoilerPointYn=N&order=sympathyScore&page=1\"\n",
    "driver.get(url)"
   ]
  },
  {
   "cell_type": "code",
   "execution_count": 9,
   "id": "8d8189e7",
   "metadata": {},
   "outputs": [],
   "source": [
    "coment_list = []\n",
    "\n",
    "for j in range (1,3):\n",
    "    try:\n",
    "        url = \"https://movie.naver.com/movie/bi/mi/pointWriteFormList.naver?code=167651&type=after&onlyActualPointYn=N&onlySpoilerPointYn=N&order=sympathyScore&page={}\".format(j)\n",
    "\n",
    "        html = driver.page_source\n",
    "\n",
    "        from bs4 import BeautifulSoup\n",
    "        soup = BeautifulSoup(html, \"html.parser\")\n",
    "\n",
    "\n",
    "\n",
    "        for i in range (0,10):\n",
    "            text = list(soup.select(\"#_filtered_ment_{}\".format(i))[0])[0][64:]\n",
    "            text_mod = text.replace(\"\\t\",\"\")\n",
    "            text_mod_final = text_mod.replace(\"\\n\",\"\")\n",
    "            \n",
    "            coment_list.append(text_mod_final)\n",
    "        \n",
    "    except :\n",
    "        pass"
   ]
  },
  {
   "cell_type": "code",
   "execution_count": 10,
   "id": "6f013404",
   "metadata": {},
   "outputs": [
    {
     "data": {
      "text/plain": [
       "['일단 진선규님 진짜 연기를 다양하게 잘하셔서 놀랐어요 오랜만에 부담없이 진짜 코미디 영화를 본거 같아서 즐거웠어요 조조로 할인받고 봤는데 반값이라 더 재밌어요 밤새다 할거없이 봤는데 최고~~ ',\n",
       " '류승룡 드디어 심폐소생술 성공! ',\n",
       " '진짜 뻥안치고 ㅈㄴ 웃겼다 ',\n",
       " '계속 웃으면서 봤어요!\"지금까지 이런맛은 없었다이것은 갈비인가 통닭인가수원왕갈비통닭입니다.\"이 대사가 귓가에 계속 맴도네요 ㅎㅎ ',\n",
       " '지금까지 이런 영화는 없었다  이것은 영화인가 통닭광고인가 ',\n",
       " '간만에 정치색 안띠고 마냥 한국식으로 웃긴 영화다~류승룡도 완전 찰지고ㅋ흥해라 ',\n",
       " '',\n",
       " '류승룡 좀비설 너무 웃겼어여 ',\n",
       " '',\n",
       " '완전 내스타일.. 류승룡 영화 요즘 말아먹더니 이번엔 대박 웃기네 ㅋㅋ역시 갓승룡 ',\n",
       " '일단 진선규님 진짜 연기를 다양하게 잘하셔서 놀랐어요 오랜만에 부담없이 진짜 코미디 영화를 본거 같아서 즐거웠어요 조조로 할인받고 봤는데 반값이라 더 재밌어요 밤새다 할거없이 봤는데 최고~~ ',\n",
       " '류승룡 드디어 심폐소생술 성공! ',\n",
       " '진짜 뻥안치고 ㅈㄴ 웃겼다 ',\n",
       " '계속 웃으면서 봤어요!\"지금까지 이런맛은 없었다이것은 갈비인가 통닭인가수원왕갈비통닭입니다.\"이 대사가 귓가에 계속 맴도네요 ㅎㅎ ',\n",
       " '지금까지 이런 영화는 없었다  이것은 영화인가 통닭광고인가 ',\n",
       " '간만에 정치색 안띠고 마냥 한국식으로 웃긴 영화다~류승룡도 완전 찰지고ㅋ흥해라 ',\n",
       " '',\n",
       " '류승룡 좀비설 너무 웃겼어여 ',\n",
       " '',\n",
       " '완전 내스타일.. 류승룡 영화 요즘 말아먹더니 이번엔 대박 웃기네 ㅋㅋ역시 갓승룡 ']"
      ]
     },
     "execution_count": 10,
     "metadata": {},
     "output_type": "execute_result"
    }
   ],
   "source": [
    "coment_list"
   ]
  },
  {
   "cell_type": "code",
   "execution_count": null,
   "id": "585eabdf",
   "metadata": {},
   "outputs": [],
   "source": []
  }
 ],
 "metadata": {
  "kernelspec": {
   "display_name": "django_kernel",
   "language": "python",
   "name": "django"
  },
  "language_info": {
   "codemirror_mode": {
    "name": "ipython",
    "version": 3
   },
   "file_extension": ".py",
   "mimetype": "text/x-python",
   "name": "python",
   "nbconvert_exporter": "python",
   "pygments_lexer": "ipython3",
   "version": "3.10.2"
  }
 },
 "nbformat": 4,
 "nbformat_minor": 5
}
