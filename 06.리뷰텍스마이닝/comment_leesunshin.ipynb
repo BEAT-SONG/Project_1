{
 "cells": [
  {
   "cell_type": "code",
   "execution_count": 8,
   "id": "0dd1022b",
   "metadata": {},
   "outputs": [
    {
     "name": "stderr",
     "output_type": "stream",
     "text": [
      "C:\\Users\\admin\\AppData\\Local\\Temp\\ipykernel_2388\\4093396705.py:3: DeprecationWarning: executable_path has been deprecated, please pass in a Service object\n",
      "  driver = webdriver.Chrome(\"C:/ChromeDriver/chromedriver.exe\")\n"
     ]
    }
   ],
   "source": [
    "from selenium import webdriver\n",
    "\n",
    "driver = webdriver.Chrome(\"C:/ChromeDriver/chromedriver.exe\")\n",
    "\n",
    "url = \"https://movie.naver.com/movie/bi/mi/pointWriteFormList.naver?code=93756&type=after&isActualPointWriteExecute=false&isMileageSubscriptionAlready=false&isMileageSubscriptionReject=false&page=1\"\n",
    "driver.get(url)\n",
    "\n"
   ]
  },
  {
   "cell_type": "code",
   "execution_count": 9,
   "id": "31d317a1",
   "metadata": {},
   "outputs": [
    {
     "name": "stdout",
     "output_type": "stream",
     "text": [
      "Requirement already satisfied: beautifulsoup4 in c:\\users\\admin\\anaconda3\\envs\\django\\lib\\site-packages (4.10.0)\n",
      "Requirement already satisfied: soupsieve>1.2 in c:\\users\\admin\\anaconda3\\envs\\django\\lib\\site-packages (from beautifulsoup4) (2.3.1)\n",
      "Note: you may need to restart the kernel to use updated packages.\n"
     ]
    }
   ],
   "source": [
    "pip install beautifulsoup4"
   ]
  },
  {
   "cell_type": "code",
   "execution_count": 10,
   "id": "9d0101c0",
   "metadata": {},
   "outputs": [],
   "source": [
    "#페이지수 : 6456\n",
    "coment_list = []\n",
    "\n",
    "for j in range (1,6457):\n",
    "    try:\n",
    "        url = \"https://movie.naver.com/movie/bi/mi/pointWriteFormList.naver?code=93756&type=after&isActualPointWriteExecute=false&isMileageSubscriptionAlready=false&isMileageSubscriptionReject=false&page={}\".format(j)\n",
    "\n",
    "        html = driver.page_source\n",
    "\n",
    "        from bs4 import BeautifulSoup\n",
    "        soup = BeautifulSoup(html, \"html.parser\")\n",
    "\n",
    "\n",
    "\n",
    "        for i in range (0,10):\n",
    "            text = list(soup.select(\"#_filtered_ment_{}\".format(i))[0])[0][64:]\n",
    "            text_mod = text.replace(\"\\t\",\"\")\n",
    "            text_mod_final = text_mod.replace(\"\\n\",\"\")\n",
    "            \n",
    "            coment_list.append(text_mod_final)\n",
    "        \n",
    "    except :\n",
    "        pass"
   ]
  },
  {
   "cell_type": "code",
   "execution_count": 12,
   "id": "70da3485",
   "metadata": {},
   "outputs": [
    {
     "data": {
      "text/plain": [
       "64560"
      ]
     },
     "execution_count": 12,
     "metadata": {},
     "output_type": "execute_result"
    }
   ],
   "source": [
    "len(coment_list)"
   ]
  },
  {
   "cell_type": "code",
   "execution_count": 13,
   "id": "817b6bc7",
   "metadata": {},
   "outputs": [],
   "source": [
    "#저장\n",
    "import csv\n",
    "\n",
    "with open('./movie_comment/leesunshin.txt', 'w', newline='') as f: \n",
    "    writer = csv.writer(f) \n",
    "    writer.writerow(coment_list)"
   ]
  },
  {
   "cell_type": "code",
   "execution_count": null,
   "id": "4df67bce",
   "metadata": {},
   "outputs": [],
   "source": []
  }
 ],
 "metadata": {
  "kernelspec": {
   "display_name": "django_kernel",
   "language": "python",
   "name": "django"
  },
  "language_info": {
   "codemirror_mode": {
    "name": "ipython",
    "version": 3
   },
   "file_extension": ".py",
   "mimetype": "text/x-python",
   "name": "python",
   "nbconvert_exporter": "python",
   "pygments_lexer": "ipython3",
   "version": "3.10.2"
  }
 },
 "nbformat": 4,
 "nbformat_minor": 5
}
